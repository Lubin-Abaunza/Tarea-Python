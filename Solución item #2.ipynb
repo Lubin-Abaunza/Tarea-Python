{
 "cells": [
  {
   "cell_type": "markdown",
   "id": "6ed8ec72-0924-42b4-a7fd-251324fe0d2c",
   "metadata": {},
   "source": [
    "# Solución"
   ]
  },
  {
   "cell_type": "markdown",
   "id": "7490f74d-15ee-4400-b6d3-5dcea5cdc93c",
   "metadata": {},
   "source": [
    "**2.** Escriba un cuaderno que contenga dos ejercicios propuestos y resueltos de colecciones, en los cuales utilice los diferentes métodos asociados a cada tipo de colección."
   ]
  },
  {
   "cell_type": "markdown",
   "id": "336fb06f-c09e-488c-a4af-0a632af57a75",
   "metadata": {},
   "source": [
    "* **Ejercicio 1**\n",
    "\n",
    "Defina un diccionario de al menos 4 llaves de tal manera que esas llaves sean tuplas. Acceda a cada elemento. ¿Puede hacer lo mismo para una llave que sea definida como lista o diccionario?"
   ]
  },
  {
   "cell_type": "code",
   "execution_count": 4,
   "id": "0b0a3e6c-0e93-4be6-9925-5d98fc318cec",
   "metadata": {},
   "outputs": [
    {
     "name": "stdout",
     "output_type": "stream",
     "text": [
      "{('Perros', 'Gatos'): ['Blancos', 'Negros', 'Cafes', 'etc'], ('Peces', 'Aves'): ['Amarillos', 'Azules', 'Verdes', 'etc'], ('Insectos', 'Crustáceos'): ['Negros', 'Cafes', 'Amarillos', 'Naranja', 'Verdes', 'etc'], ('Serpients', 'Lagartos', 'Anfibios'): ['Verdes', 'Cafes', 'Negros']}\n"
     ]
    }
   ],
   "source": [
    "# Diccionario\n",
    "\n",
    "Col_animales = {(\"Perros\",\"Gatos\"):[\"Blancos\",\"Negros\",\"Cafes\",\"etc\"],\n",
    "                (\"Peces\",\"Aves\"):[\"Amarillos\",\"Azules\",\"Verdes\",\"etc\"],\n",
    "                (\"Insectos\",\"Crustáceos\"):[\"Negros\",\"Cafes\",\"Amarillos\",\"Naranja\",\"Verdes\",\"etc\"],\n",
    "                (\"Serpients\",\"Lagartos\",\"Anfibios\"):[\"Verdes\",\"Cafes\",\"Negros\"]}\n",
    "\n",
    "print(Col_animales)"
   ]
  },
  {
   "cell_type": "code",
   "execution_count": 8,
   "id": "a549ab53-b984-4eb4-849f-62f5988b1792",
   "metadata": {},
   "outputs": [
    {
     "name": "stdout",
     "output_type": "stream",
     "text": [
      "Blancos\n",
      "Negros\n",
      "Cafes\n",
      "etc\n",
      "\n",
      "\n",
      "Amarillos\n",
      "Azules\n",
      "Verdes\n",
      "etc\n",
      "\n",
      "\n",
      "Negros\n",
      "Cafes\n",
      "Amarillos\n",
      "Naranja\n",
      "Verdes\n",
      "etc\n",
      "\n",
      "\n",
      "Verdes\n",
      "Cafes\n",
      "Negros\n",
      "\n",
      "\n"
     ]
    }
   ],
   "source": [
    "# Acceso a cada elemento\n",
    "\n",
    "print(Col_animales[(\"Perros\",\"Gatos\")][0])\n",
    "print(Col_animales[(\"Perros\",\"Gatos\")][1])\n",
    "print(Col_animales[(\"Perros\",\"Gatos\")][2])\n",
    "print(Col_animales[(\"Perros\",\"Gatos\")][3])\n",
    "print('\\n')\n",
    "\n",
    "\n",
    "print(Col_animales[(\"Peces\",\"Aves\")][0])\n",
    "print(Col_animales[(\"Peces\",\"Aves\")][1])\n",
    "print(Col_animales[(\"Peces\",\"Aves\")][2])\n",
    "print(Col_animales[(\"Peces\",\"Aves\")][3])\n",
    "print('\\n')\n",
    "\n",
    "print(Col_animales[(\"Insectos\",\"Crustáceos\")][0])\n",
    "print(Col_animales[(\"Insectos\",\"Crustáceos\")][1])\n",
    "print(Col_animales[(\"Insectos\",\"Crustáceos\")][2])\n",
    "print(Col_animales[(\"Insectos\",\"Crustáceos\")][3])\n",
    "print(Col_animales[(\"Insectos\",\"Crustáceos\")][4])\n",
    "print(Col_animales[(\"Insectos\",\"Crustáceos\")][5])\n",
    "print('\\n')\n",
    "\n",
    "print(Col_animales[(\"Serpients\",\"Lagartos\",\"Anfibios\")][0])\n",
    "print(Col_animales[(\"Serpients\",\"Lagartos\",\"Anfibios\")][1])\n",
    "print(Col_animales[(\"Serpients\",\"Lagartos\",\"Anfibios\")][2])\n",
    "print('\\n')"
   ]
  },
  {
   "cell_type": "code",
   "execution_count": 5,
   "id": "a417484b-833a-48bd-b557-bb657429393e",
   "metadata": {},
   "outputs": [
    {
     "ename": "TypeError",
     "evalue": "unhashable type: 'list'",
     "output_type": "error",
     "traceback": [
      "\u001b[1;31m---------------------------------------------------------------------------\u001b[0m",
      "\u001b[1;31mTypeError\u001b[0m                                 Traceback (most recent call last)",
      "Input \u001b[1;32mIn [5]\u001b[0m, in \u001b[0;36m<cell line: 1>\u001b[1;34m()\u001b[0m\n\u001b[1;32m----> 1\u001b[0m Col_animales \u001b[38;5;241m=\u001b[39m {[\u001b[38;5;124m\"\u001b[39m\u001b[38;5;124mPerros\u001b[39m\u001b[38;5;124m\"\u001b[39m,\u001b[38;5;124m\"\u001b[39m\u001b[38;5;124mGatos\u001b[39m\u001b[38;5;124m\"\u001b[39m]:[\u001b[38;5;124m\"\u001b[39m\u001b[38;5;124mBancos\u001b[39m\u001b[38;5;124m\"\u001b[39m,\u001b[38;5;124m\"\u001b[39m\u001b[38;5;124mNegros\u001b[39m\u001b[38;5;124m\"\u001b[39m,\u001b[38;5;124m\"\u001b[39m\u001b[38;5;124mCafes\u001b[39m\u001b[38;5;124m\"\u001b[39m,\u001b[38;5;124m\"\u001b[39m\u001b[38;5;124metc\u001b[39m\u001b[38;5;124m\"\u001b[39m],\n\u001b[0;32m      2\u001b[0m                 [\u001b[38;5;124m\"\u001b[39m\u001b[38;5;124mPeces\u001b[39m\u001b[38;5;124m\"\u001b[39m,\u001b[38;5;124m\"\u001b[39m\u001b[38;5;124mAves\u001b[39m\u001b[38;5;124m\"\u001b[39m]:[\u001b[38;5;124m\"\u001b[39m\u001b[38;5;124mAmarillos\u001b[39m\u001b[38;5;124m\"\u001b[39m,\u001b[38;5;124m\"\u001b[39m\u001b[38;5;124mAzules\u001b[39m\u001b[38;5;124m\"\u001b[39m,\u001b[38;5;124m\"\u001b[39m\u001b[38;5;124mVerdes\u001b[39m\u001b[38;5;124m\"\u001b[39m,\u001b[38;5;124m\"\u001b[39m\u001b[38;5;124metc\u001b[39m\u001b[38;5;124m\"\u001b[39m],\n\u001b[0;32m      3\u001b[0m                 [\u001b[38;5;124m\"\u001b[39m\u001b[38;5;124mInsectos\u001b[39m\u001b[38;5;124m\"\u001b[39m,\u001b[38;5;124m\"\u001b[39m\u001b[38;5;124mCrustáceos\u001b[39m\u001b[38;5;124m\"\u001b[39m]:[\u001b[38;5;124m\"\u001b[39m\u001b[38;5;124mNegros\u001b[39m\u001b[38;5;124m\"\u001b[39m,\u001b[38;5;124m\"\u001b[39m\u001b[38;5;124mCafes\u001b[39m\u001b[38;5;124m\"\u001b[39m,\u001b[38;5;124m\"\u001b[39m\u001b[38;5;124mAmarillos\u001b[39m\u001b[38;5;124m\"\u001b[39m,\u001b[38;5;124m\"\u001b[39m\u001b[38;5;124mNaranja\u001b[39m\u001b[38;5;124m\"\u001b[39m,\u001b[38;5;124m\"\u001b[39m\u001b[38;5;124mVerdes\u001b[39m\u001b[38;5;124m\"\u001b[39m,\u001b[38;5;124m\"\u001b[39m\u001b[38;5;124metc\u001b[39m\u001b[38;5;124m\"\u001b[39m],\n\u001b[0;32m      4\u001b[0m                 [\u001b[38;5;124m\"\u001b[39m\u001b[38;5;124mSerpients\u001b[39m\u001b[38;5;124m\"\u001b[39m,\u001b[38;5;124m\"\u001b[39m\u001b[38;5;124mLagartos\u001b[39m\u001b[38;5;124m\"\u001b[39m,\u001b[38;5;124m\"\u001b[39m\u001b[38;5;124mAnfibios\u001b[39m\u001b[38;5;124m\"\u001b[39m]:[\u001b[38;5;124m\"\u001b[39m\u001b[38;5;124mVerdes\u001b[39m\u001b[38;5;124m\"\u001b[39m,\u001b[38;5;124m\"\u001b[39m\u001b[38;5;124mCafes\u001b[39m\u001b[38;5;124m\"\u001b[39m,\u001b[38;5;124m\"\u001b[39m\u001b[38;5;124mNegros\u001b[39m\u001b[38;5;124m\"\u001b[39m]}\n\u001b[0;32m      6\u001b[0m \u001b[38;5;28mprint\u001b[39m(Col_animales)\n",
      "\u001b[1;31mTypeError\u001b[0m: unhashable type: 'list'"
     ]
    }
   ],
   "source": [
    "Col_animales = {[\"Perros\",\"Gatos\"]:[\"Bancos\",\"Negros\",\"Cafes\",\"etc\"],\n",
    "                [\"Peces\",\"Aves\"]:[\"Amarillos\",\"Azules\",\"Verdes\",\"etc\"],\n",
    "                [\"Insectos\",\"Crustáceos\"]:[\"Negros\",\"Cafes\",\"Amarillos\",\"Naranja\",\"Verdes\",\"etc\"],\n",
    "                [\"Serpients\",\"Lagartos\",\"Anfibios\"]:[\"Verdes\",\"Cafes\",\"Negros\"]}\n",
    "\n",
    "print(Col_animales)"
   ]
  },
  {
   "cell_type": "markdown",
   "id": "e029a482-5be5-4922-a581-5c951f8de933",
   "metadata": {},
   "source": [
    "Las llaves no se pueden defimir como listas"
   ]
  },
  {
   "cell_type": "code",
   "execution_count": 7,
   "id": "a206d1c6-244a-4ddd-8782-b0f38aae059c",
   "metadata": {},
   "outputs": [
    {
     "ename": "TypeError",
     "evalue": "unhashable type: 'set'",
     "output_type": "error",
     "traceback": [
      "\u001b[1;31m---------------------------------------------------------------------------\u001b[0m",
      "\u001b[1;31mTypeError\u001b[0m                                 Traceback (most recent call last)",
      "Input \u001b[1;32mIn [7]\u001b[0m, in \u001b[0;36m<cell line: 1>\u001b[1;34m()\u001b[0m\n\u001b[1;32m----> 1\u001b[0m Col_animales \u001b[38;5;241m=\u001b[39m {{\u001b[38;5;124m\"\u001b[39m\u001b[38;5;124mPerros\u001b[39m\u001b[38;5;124m\"\u001b[39m,\u001b[38;5;124m\"\u001b[39m\u001b[38;5;124mGatos\u001b[39m\u001b[38;5;124m\"\u001b[39m}:[\u001b[38;5;124m\"\u001b[39m\u001b[38;5;124mBancos\u001b[39m\u001b[38;5;124m\"\u001b[39m,\u001b[38;5;124m\"\u001b[39m\u001b[38;5;124mNegros\u001b[39m\u001b[38;5;124m\"\u001b[39m,\u001b[38;5;124m\"\u001b[39m\u001b[38;5;124mCafes\u001b[39m\u001b[38;5;124m\"\u001b[39m,\u001b[38;5;124m\"\u001b[39m\u001b[38;5;124metc\u001b[39m\u001b[38;5;124m\"\u001b[39m],\n\u001b[0;32m      2\u001b[0m                 {\u001b[38;5;124m\"\u001b[39m\u001b[38;5;124mPeces\u001b[39m\u001b[38;5;124m\"\u001b[39m,\u001b[38;5;124m\"\u001b[39m\u001b[38;5;124mAves\u001b[39m\u001b[38;5;124m\"\u001b[39m}:[\u001b[38;5;124m\"\u001b[39m\u001b[38;5;124mAmarillos\u001b[39m\u001b[38;5;124m\"\u001b[39m,\u001b[38;5;124m\"\u001b[39m\u001b[38;5;124mAzules\u001b[39m\u001b[38;5;124m\"\u001b[39m,\u001b[38;5;124m\"\u001b[39m\u001b[38;5;124mVerdes\u001b[39m\u001b[38;5;124m\"\u001b[39m,\u001b[38;5;124m\"\u001b[39m\u001b[38;5;124metc\u001b[39m\u001b[38;5;124m\"\u001b[39m],\n\u001b[0;32m      3\u001b[0m                 {\u001b[38;5;124m\"\u001b[39m\u001b[38;5;124mInsectos\u001b[39m\u001b[38;5;124m\"\u001b[39m,\u001b[38;5;124m\"\u001b[39m\u001b[38;5;124mCrustáceos\u001b[39m\u001b[38;5;124m\"\u001b[39m}:[\u001b[38;5;124m\"\u001b[39m\u001b[38;5;124mNegros\u001b[39m\u001b[38;5;124m\"\u001b[39m,\u001b[38;5;124m\"\u001b[39m\u001b[38;5;124mCafes\u001b[39m\u001b[38;5;124m\"\u001b[39m,\u001b[38;5;124m\"\u001b[39m\u001b[38;5;124mAmarillos\u001b[39m\u001b[38;5;124m\"\u001b[39m,\u001b[38;5;124m\"\u001b[39m\u001b[38;5;124mNaranja\u001b[39m\u001b[38;5;124m\"\u001b[39m,\u001b[38;5;124m\"\u001b[39m\u001b[38;5;124mVerdes\u001b[39m\u001b[38;5;124m\"\u001b[39m,\u001b[38;5;124m\"\u001b[39m\u001b[38;5;124metc\u001b[39m\u001b[38;5;124m\"\u001b[39m],\n\u001b[0;32m      4\u001b[0m                 {\u001b[38;5;124m\"\u001b[39m\u001b[38;5;124mSerpients\u001b[39m\u001b[38;5;124m\"\u001b[39m,\u001b[38;5;124m\"\u001b[39m\u001b[38;5;124mLagartos\u001b[39m\u001b[38;5;124m\"\u001b[39m,\u001b[38;5;124m\"\u001b[39m\u001b[38;5;124mAnfibios\u001b[39m\u001b[38;5;124m\"\u001b[39m}:[\u001b[38;5;124m\"\u001b[39m\u001b[38;5;124mVerdes\u001b[39m\u001b[38;5;124m\"\u001b[39m,\u001b[38;5;124m\"\u001b[39m\u001b[38;5;124mCafes\u001b[39m\u001b[38;5;124m\"\u001b[39m,\u001b[38;5;124m\"\u001b[39m\u001b[38;5;124mNegros\u001b[39m\u001b[38;5;124m\"\u001b[39m]}\n\u001b[0;32m      6\u001b[0m \u001b[38;5;28mprint\u001b[39m(Col_animales)\n",
      "\u001b[1;31mTypeError\u001b[0m: unhashable type: 'set'"
     ]
    }
   ],
   "source": [
    "Col_animales = {{\"Perros\",\"Gatos\"}:[\"Bancos\",\"Negros\",\"Cafes\",\"etc\"],\n",
    "                {\"Peces\",\"Aves\"}:[\"Amarillos\",\"Azules\",\"Verdes\",\"etc\"],\n",
    "                {\"Insectos\",\"Crustáceos\"}:[\"Negros\",\"Cafes\",\"Amarillos\",\"Naranja\",\"Verdes\",\"etc\"],\n",
    "                {\"Serpients\",\"Lagartos\",\"Anfibios\"}:[\"Verdes\",\"Cafes\",\"Negros\"]}\n",
    "\n",
    "print(Col_animales)"
   ]
  },
  {
   "cell_type": "markdown",
   "id": "4b250ace-3739-4e28-9606-3aef4dc8e4b5",
   "metadata": {},
   "source": [
    "Las llaves no se pueden defimir como dicccionario "
   ]
  },
  {
   "cell_type": "markdown",
   "id": "6aaa3c79-cff6-4b7f-931e-685fcdc41d3d",
   "metadata": {},
   "source": [
    "* **Ejercicio 2**\n",
    "\n",
    "¿Qué significa default?"
   ]
  },
  {
   "cell_type": "markdown",
   "id": "857b9590-e37d-4ebe-8ef6-27a9f006974d",
   "metadata": {},
   "source": [
    "La enciclopedia libre (Wikipedia) define default como:\n",
    "\n",
    "*\"Un valor o configuración por defecto (default, en inglés) en informática se refiere al valor preexistente (predeterminado) de una configuración o ajuste configurable por el usuario que se asigna a una aplicación de software, programa de ordenador o dispositivo. Dichas configuraciones también se denominan preajustes (presets, en inglés) o ajustes de fábrica, especialmente para dispositivos electrónicos.*\n",
    "\n"
   ]
  }
 ],
 "metadata": {
  "kernelspec": {
   "display_name": "Python 3 (ipykernel)",
   "language": "python",
   "name": "python3"
  },
  "language_info": {
   "codemirror_mode": {
    "name": "ipython",
    "version": 3
   },
   "file_extension": ".py",
   "mimetype": "text/x-python",
   "name": "python",
   "nbconvert_exporter": "python",
   "pygments_lexer": "ipython3",
   "version": "3.9.13"
  }
 },
 "nbformat": 4,
 "nbformat_minor": 5
}
